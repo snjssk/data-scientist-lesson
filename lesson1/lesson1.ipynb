{
 "cells": [
  {
   "cell_type": "code",
   "execution_count": 30,
   "metadata": {},
   "outputs": [
    {
     "data": {
      "text/plain": [
       "'%.3f'"
      ]
     },
     "execution_count": 30,
     "metadata": {},
     "output_type": "execute_result"
    }
   ],
   "source": [
    "import numpy as np\n",
    "import numpy.random as random\n",
    "import scipy as sp\n",
    "import pandas as pd\n",
    "from pandas import Series, DataFrame\n",
    "\n",
    "import matplotlib.pyplot as plt\n",
    "import matplotlib as mpl\n",
    "import seaborn as sns\n",
    "%matplotlib inline\n",
    "\n",
    "%precision 3"
   ]
  },
  {
   "cell_type": "code",
   "execution_count": 31,
   "metadata": {},
   "outputs": [
    {
     "data": {
      "text/plain": [
       "dtype('int64')"
      ]
     },
     "execution_count": 31,
     "metadata": {},
     "output_type": "execute_result"
    }
   ],
   "source": [
    "data = np.array([3, 4, 5, 6, 6, 2, 2, 1, 5, 8])\n",
    "data.dtype"
   ]
  },
  {
   "cell_type": "code",
   "execution_count": 32,
   "metadata": {},
   "outputs": [
    {
     "name": "stdout",
     "output_type": "stream",
     "text": [
      "次元数: 2\n",
      "各次元のサイズ: (2, 3)\n",
      "全要素数: 6\n"
     ]
    }
   ],
   "source": [
    "data = np.array([[1, 2, 3], [4, 5, 6]])\n",
    "print('次元数:', data.ndim)\n",
    "print('各次元のサイズ:', data.shape)\n",
    "print('全要素数:', data.size)"
   ]
  },
  {
   "cell_type": "code",
   "execution_count": 33,
   "metadata": {},
   "outputs": [
    {
     "name": "stdout",
     "output_type": "stream",
     "text": [
      "2倍: [ 2  4  6  8 10]\n",
      "掛け算: [ 1  4  9 16 25]\n",
      "割り算: [1. 1. 1. 1. 1.]\n",
      "累乗: [ 1  4  9 16 25]\n"
     ]
    }
   ],
   "source": [
    "data1 = np.array([1, 2, 3, 4, 5])\n",
    "data2 = np.array([1, 2, 3, 4, 5])\n",
    "print('2倍:', data1 * 2)\n",
    "print('掛け算:', data1 * data2)\n",
    "print('割り算:', data1 / data2)\n",
    "print('累乗:', data1 ** 2)"
   ]
  },
  {
   "cell_type": "code",
   "execution_count": 34,
   "metadata": {},
   "outputs": [
    {
     "name": "stdout",
     "output_type": "stream",
     "text": [
      "[1 2 2 3 4 5 5 6 6 8]\n",
      "[8 6 6 5 5 4 3 2 2 1]\n"
     ]
    }
   ],
   "source": [
    "data = np.array([3, 4, 5, 6, 6, 2, 2, 1, 5, 8])\n",
    "data.sort()\n",
    "print(data)\n",
    "\n",
    "data[::-1].sort()\n",
    "print(data)"
   ]
  },
  {
   "cell_type": "code",
   "execution_count": 35,
   "metadata": {},
   "outputs": [
    {
     "name": "stdout",
     "output_type": "stream",
     "text": [
      "Min: 1\n",
      "Max: 5\n",
      "Sum: 15\n",
      "積み上げていった結果の配列: [ 1  3  6 10 15]\n"
     ]
    }
   ],
   "source": [
    "data = np.array([1, 2, 3, 4, 5])\n",
    "print('Min:', data.min())\n",
    "print('Max:', data.max())\n",
    "print('Sum:', data.sum())\n",
    "print('積み上げていった結果の配列:', data.cumsum())"
   ]
  },
  {
   "cell_type": "code",
   "execution_count": 40,
   "metadata": {},
   "outputs": [
    {
     "name": "stdout",
     "output_type": "stream",
     "text": [
      "[ 1.764  0.4    0.979  2.241  1.868 -0.977  0.95  -0.151 -0.103  0.411]\n"
     ]
    }
   ],
   "source": [
    "random.seed(0)\n",
    "\n",
    "random_data = random.randn(10)\n",
    "print(random_data)"
   ]
  },
  {
   "cell_type": "code",
   "execution_count": null,
   "metadata": {},
   "outputs": [],
   "source": []
  }
 ],
 "metadata": {
  "kernelspec": {
   "display_name": "Python 3",
   "language": "python",
   "name": "python3"
  },
  "language_info": {
   "codemirror_mode": {
    "name": "ipython",
    "version": 3
   },
   "file_extension": ".py",
   "mimetype": "text/x-python",
   "name": "python",
   "nbconvert_exporter": "python",
   "pygments_lexer": "ipython3",
   "version": "3.7.6"
  }
 },
 "nbformat": 4,
 "nbformat_minor": 4
}
